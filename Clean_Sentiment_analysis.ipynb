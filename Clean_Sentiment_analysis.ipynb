{
 "cells": [
  {
   "cell_type": "code",
   "execution_count": 24,
   "metadata": {
    "scrolled": true
   },
   "outputs": [
    {
     "name": "stderr",
     "output_type": "stream",
     "text": [
      "C:\\Users\\adminetu\\Anaconda3\\lib\\site-packages\\pandas\\core\\indexing.py:189: SettingWithCopyWarning: \n",
      "A value is trying to be set on a copy of a slice from a DataFrame\n",
      "\n",
      "See the caveats in the documentation: http://pandas.pydata.org/pandas-docs/stable/indexing.html#indexing-view-versus-copy\n",
      "  self._setitem_with_indexer(indexer, value)\n",
      "C:\\Users\\adminetu\\Anaconda3\\lib\\site-packages\\ipykernel_launcher.py:38: SettingWithCopyWarning: \n",
      "A value is trying to be set on a copy of a slice from a DataFrame\n",
      "\n",
      "See the caveats in the documentation: http://pandas.pydata.org/pandas-docs/stable/indexing.html#indexing-view-versus-copy\n",
      "C:\\Users\\adminetu\\Anaconda3\\lib\\site-packages\\pandas\\core\\generic.py:7626: SettingWithCopyWarning: \n",
      "A value is trying to be set on a copy of a slice from a DataFrame\n",
      "\n",
      "See the caveats in the documentation: http://pandas.pydata.org/pandas-docs/stable/indexing.html#indexing-view-versus-copy\n",
      "  self._update_inplace(new_data)\n",
      "C:\\Users\\adminetu\\Anaconda3\\lib\\site-packages\\IPython\\core\\interactiveshell.py:3267: SettingWithCopyWarning: \n",
      "A value is trying to be set on a copy of a slice from a DataFrame\n",
      "\n",
      "See the caveats in the documentation: http://pandas.pydata.org/pandas-docs/stable/indexing.html#indexing-view-versus-copy\n",
      "  exec(code_obj, self.user_global_ns, self.user_ns)\n",
      "C:\\Users\\adminetu\\Anaconda3\\lib\\site-packages\\ipykernel_launcher.py:39: SettingWithCopyWarning: \n",
      "A value is trying to be set on a copy of a slice from a DataFrame\n",
      "\n",
      "See the caveats in the documentation: http://pandas.pydata.org/pandas-docs/stable/indexing.html#indexing-view-versus-copy\n",
      "C:\\Users\\adminetu\\Anaconda3\\lib\\site-packages\\ipykernel_launcher.py:41: SettingWithCopyWarning: \n",
      "A value is trying to be set on a copy of a slice from a DataFrame\n",
      "\n",
      "See the caveats in the documentation: http://pandas.pydata.org/pandas-docs/stable/indexing.html#indexing-view-versus-copy\n",
      "C:\\Users\\adminetu\\Anaconda3\\lib\\site-packages\\ipykernel_launcher.py:43: SettingWithCopyWarning: \n",
      "A value is trying to be set on a copy of a slice from a DataFrame\n",
      "\n",
      "See the caveats in the documentation: http://pandas.pydata.org/pandas-docs/stable/indexing.html#indexing-view-versus-copy\n",
      "C:\\Users\\adminetu\\Anaconda3\\lib\\site-packages\\ipykernel_launcher.py:44: SettingWithCopyWarning: \n",
      "A value is trying to be set on a copy of a slice from a DataFrame\n",
      "\n",
      "See the caveats in the documentation: http://pandas.pydata.org/pandas-docs/stable/indexing.html#indexing-view-versus-copy\n",
      "C:\\Users\\adminetu\\Anaconda3\\lib\\site-packages\\ipykernel_launcher.py:45: SettingWithCopyWarning: \n",
      "A value is trying to be set on a copy of a slice from a DataFrame\n",
      "\n",
      "See the caveats in the documentation: http://pandas.pydata.org/pandas-docs/stable/indexing.html#indexing-view-versus-copy\n"
     ]
    }
   ],
   "source": [
    "import pandas as pd \n",
    "import numpy as np \n",
    "import re \n",
    "\n",
    "df1=pd.read_csv('F15_test.txt',sep='\\t')\n",
    "df2=pd.read_csv('Annotation_sentiment_pour_tests_1er_corpus_entier.txt', sep='\\t')\n",
    "df=df2\n",
    "df.dropna(axis=1, how='all', inplace=True)\n",
    "\n",
    "df.sort_values('Type', inplace=True)\n",
    "df.drop_duplicates(subset=['Start','Stop'], keep='first', inplace=True)\n",
    "df.sort_values('Id', inplace=True)\n",
    "\n",
    "df['feat']=df.Features\n",
    "df.Features=df.Features.str.replace('{','', regex=False).str.replace(' ', '', regex=False).str.replace('}','', regex=False)\n",
    "df['Features']=df['Features'].apply(lambda x: x.split(','))\n",
    "df.Features=df.Features.apply(lambda x : [v.split('=') for v in x])\n",
    "\n",
    "def list_par(x,param):\n",
    "    for y in x:\n",
    "        if (y[0]==param):\n",
    "            return y[1]\n",
    "        else:\n",
    "            pass\n",
    "df['String']=df.Features[df['Type']=='Token'].apply(lambda x : list_par(x,'string'))\n",
    "df['Lenght']=df['Stop']-df['Start']\n",
    "\n",
    "df['Sentiment']=df.Features[df['Type']=='Sentiment'].apply(lambda x : list_par(x,'polarité'))\n",
    "df['Sent']=0\n",
    "df['Sent'].loc[df.apply(lambda x: x['Sentiment']=='positif',axis=1)]=1\n",
    "df['Sent'].loc[df.apply(lambda x: x['Sentiment']=='négatif',axis=1)]=-1\n",
    "\n",
    "df['Kind']=df.Features[df['Type']=='Token'].apply(lambda x : list_par(x, 'kind'))\n",
    "\n",
    "df=df[~(df['Kind']=='symbol')]\n",
    "df[df['Kind']=='symbol']\n",
    "\n",
    "df['Type'][df['Type']=='Geonames']='Location'\n",
    "df['Type'][df['Type']=='BDNyme']='Location'\n",
    "\n",
    "df.sort_values('Start', inplace=True)\n",
    "\n",
    "df['Sentiment']=df.Features[df['Type']=='Location'].apply(lambda x : list_par(x,'42-sentiment'))\n",
    "df['Sent'].loc[df.apply(lambda x: x['Sentiment']=='neutral',axis=1)]=0\n",
    "df['Sent'].loc[df.apply(lambda x: x['Sentiment']=='négatif',axis=1)]=-1\n",
    "df['Sent'].loc[df.apply(lambda x: x['Sentiment']=='positif',axis=1)]=1"
   ]
  },
  {
   "cell_type": "code",
   "execution_count": 26,
   "metadata": {
    "scrolled": true
   },
   "outputs": [],
   "source": [
    "df.reset_index(inplace=True, drop=True)"
   ]
  },
  {
   "cell_type": "code",
   "execution_count": null,
   "metadata": {},
   "outputs": [],
   "source": [
    "dfl=pd.DataFrame(df)"
   ]
  }
 ],
 "metadata": {
  "kernelspec": {
   "display_name": "Python 3",
   "language": "python",
   "name": "python3"
  },
  "language_info": {
   "codemirror_mode": {
    "name": "ipython",
    "version": 3
   },
   "file_extension": ".py",
   "mimetype": "text/x-python",
   "name": "python",
   "nbconvert_exporter": "python",
   "pygments_lexer": "ipython3",
   "version": "3.7.1"
  }
 },
 "nbformat": 4,
 "nbformat_minor": 2
}
